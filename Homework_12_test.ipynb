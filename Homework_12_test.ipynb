{
  "cells": [
    {
      "cell_type": "markdown",
      "metadata": {
        "id": "6_xj_XR_4hbu"
      },
      "source": [
        "Before you turn this problem in, make sure everything runs as expected. First, **restart the kernel** (in the menubar, select Kernel$\\rightarrow$Restart) and then **run all cells** (in the menubar, select Cell$\\rightarrow$Run All).\n",
        "\n",
        "Make sure you fill in any place that says `YOUR CODE HERE` or \"YOUR ANSWER HERE\", as well as your name and collaborators below:"
      ]
    },
    {
      "cell_type": "code",
      "execution_count": 5,
      "metadata": {
        "id": "9oZ11RU-4hbx"
      },
      "outputs": [],
      "source": [
        "NAME = \"\"\n",
        "COLLABORATORS = \"\""
      ]
    },
    {
      "cell_type": "markdown",
      "metadata": {
        "id": "Pq6yFDhx4hby"
      },
      "source": [
        "---"
      ]
    },
    {
      "cell_type": "markdown",
      "metadata": {
        "deletable": false,
        "editable": false,
        "nbgrader": {
          "grade": false,
          "grade_id": "cell-9e2df98cd821338c",
          "locked": true,
          "schema_version": 3,
          "solution": false
        },
        "id": "sCfwgRC24hbz"
      },
      "source": [
        "# CSE 30 Winter 2022 - Homework 12\n",
        "\n",
        "## Graphs\n",
        "\n",
        "\n",
        "### Instructions\n",
        "\n",
        "Please disregard the YOUR NAME and COLLABORATORS above.  They are put there atomatically by the grading tool.\n",
        "You can find instructions on how to work on a homework on Canvas.  Here is a short summary: \n",
        "\n",
        "### Submitting your work\n",
        "\n",
        "To submit your work: \n",
        "\n",
        "* First, click on \"Runtime > Restart and run all\", and check that you get no errors.  This enables you to catch any error you might have introduced, and not noticed, due to your running cells out of order. \n",
        "* Second, download the notebook in .ipynb format (File > Download .ipynb) and upload the .ipynb file to [this form](https://docs.google.com/forms/d/e/1FAIpQLSeJ5mAlZ0-3xJ75wY4TddUeD54NZvMIm7SgfHR00n7AxtO9mw/viewform?usp=sf_link). **This homework is due at 11:59pm on Tuesday, 22 February 2022.**.\n",
        "\n",
        "You can submit multiple times; the last submission before the deadline is the one that counts.\n",
        "\n",
        "### Homework format\n",
        "\n",
        "For each question in this notebook, there is: \n",
        "\n",
        "* A text description of the problem. \n",
        "* One or more places where you have to insert your solution.  You need to complete every place marked: \n",
        "\n",
        "    `# YOUR CODE HERE`\n",
        "    \n",
        "    and you should not modify any other place. \n",
        "* One or more test cells.  Each cell is worth some number of points, marked at the top.  You should not modify these tests cells.  The tests pass if no error is printed out: when there is a statement that says, for instance: \n",
        "\n",
        "    `assert x == 2`\n",
        "    \n",
        "    then the test passes if `x` has value 2, and fails otherwise.  You can insert a `print(x)` (for this case!) somewhere if you want to debug your work; it is up to you.  \n",
        "    \n",
        "### Notes:\n",
        "\n",
        "* Your code will be tested both according to the tests you can see (the `assert` statements you can see), _and_ additional tests.  This prevents you from hard-coding the answer to the particular questions posed.  Your code should solve the _general_ intended case, not hard-code the particular answer for the values used in the tests. \n",
        "\n",
        "* **Please do not delete or add cells!** The test is autograded, and if you modify the test by adding or deleting cells, even if you re-add cells you delete, you may not receive credit. \n",
        "\n",
        "* **Please do not import modules that are not part of the [standard library](https://docs.python.org/3/library/index.html).** You do not need any, and they will likely not available in the grading environment, leading your code to fail. \n",
        "\n",
        "* **If you are inactive too long, your notebook might get disconnected from the back-end.** Your work is never lost, but you have to re-run all the cells before you continue. \n",
        "\n",
        "* You can write out print statements in your code, to help you test/debug it. But remember: the code is graded on the basis of what it outputs or returns, not on the basis of what it prints.\n",
        "\n",
        "* **TAs and tutors have access to this notebook,** so if you let them know you need their help, they can look at your work and give you advice. \n",
        "\n",
        "### Grading\n",
        "\n",
        "Each cell where there are tests is worth a certain number of points.  You get the points allocated to a cell only if you pass _all_ the tests in the cell. \n",
        "\n",
        "The tests in a cell include both the tests you can see, and other, similar, tests that are used for grading only.  Therefore, you cannot hard-code the solutions: you really have to solve the essence of the problem, to receive the points in a cell. \n",
        "\n",
        "### Code of Conduct\n",
        "\n",
        "* Work on the test yourself, alone. \n",
        "* You can search documentation on the web, on sites such as the Python documentation sites, Stackoverflow, and similar, and you can use the results. \n",
        "* You cannot share your work with others or solicit their help.\n"
      ]
    },
    {
      "cell_type": "markdown",
      "metadata": {
        "deletable": false,
        "editable": false,
        "nbgrader": {
          "grade": false,
          "grade_id": "cell-34d20b133187c2cd",
          "locked": true,
          "schema_version": 3,
          "solution": false
        },
        "id": "E_s4yu3h4hb0"
      },
      "source": [
        "A (directed) graph $G = (V, E)$ consists of a set of vertices (or nodes) $V$, and a set of edges $E \\subseteq V \\times V$. "
      ]
    },
    {
      "cell_type": "markdown",
      "metadata": {
        "deletable": false,
        "editable": false,
        "nbgrader": {
          "grade": false,
          "grade_id": "cell-4d0d29ea86b146b8",
          "locked": true,
          "schema_version": 3,
          "solution": false
        },
        "id": "3zFo2lYn4hb0"
      },
      "source": [
        "![graph1.png](data:image/png;base64,iVBORw0KGgoAAAANSUhEUgAAAREAAADFCAIAAAD8LlFUAAAAAXNSR0IArs4c6QAAAAlwSFlzAAALEwAACxMBAJqcGAAAAdVpVFh0WE1MOmNvbS5hZG9iZS54bXAAAAAAADx4OnhtcG1ldGEgeG1sbnM6eD0iYWRvYmU6bnM6bWV0YS8iIHg6eG1wdGs9IlhNUCBDb3JlIDUuNC4wIj4KICAgPHJkZjpSREYgeG1sbnM6cmRmPSJodHRwOi8vd3d3LnczLm9yZy8xOTk5LzAyLzIyLXJkZi1zeW50YXgtbnMjIj4KICAgICAgPHJkZjpEZXNjcmlwdGlvbiByZGY6YWJvdXQ9IiIKICAgICAgICAgICAgeG1sbnM6dGlmZj0iaHR0cDovL25zLmFkb2JlLmNvbS90aWZmLzEuMC8iPgogICAgICAgICA8dGlmZjpDb21wcmVzc2lvbj41PC90aWZmOkNvbXByZXNzaW9uPgogICAgICAgICA8dGlmZjpQaG90b21ldHJpY0ludGVycHJldGF0aW9uPjI8L3RpZmY6UGhvdG9tZXRyaWNJbnRlcnByZXRhdGlvbj4KICAgICAgICAgPHRpZmY6T3JpZW50YXRpb24+MTwvdGlmZjpPcmllbnRhdGlvbj4KICAgICAgPC9yZGY6RGVzY3JpcHRpb24+CiAgIDwvcmRmOlJERj4KPC94OnhtcG1ldGE+CrDjMt0AADN7SURBVHgB7Z0FdBXH18BL8ARPIAJBgkMbijsUgkOBooVCkeKFP9IiLU5xaXEvTnEJULRYcCjuUJwSEpxACNrvl285y7K7b9++5AWS9+adnJzZO3dmd+7s3Zm5Gu+///77xPQP5MOHD587dy44ODhevHheXl65cuUqWLAgZdN9CEQ7UODBgwfbt28PDQ29ffs2s5AuXbpy5cqlTp3aDl2LLqxRIJ5JnmF6+g8avHTZsqSpPNxz+Cfx8P7kv/8i7t2+d+FE+IM7DRs0GNivDzNn7XaiPloUePny5YYNGwYMGX729KnsJQISpk6X1MP72d3glw9CL+7dmjvvpwN696patWrChAmjdRvR2JACpnhm2PCRQ4cP/7Re68/qt0mdMauqw4c3Lp9YOu3U8hk/9+r1U68eqlpxaS8KXLlypVbd+nfDX5TsOiJj0XIJEidR9vzqecT1A9v3/NbTwzVR4IplWbJkUdaKsh0pYIVn3rx5U79Rk8MXr1YdvSSFt6/BjR8H39jwY8MG1SqOHDzQAE1URY0CR44cKV+pSsluI/PWbmawE2bXcHr13D2/9rh84VyaNGmidi/RypgCCYyrK1Sueun+03qztydIlNgYE46qO3v7qM+TgibYxphWttZevHiRQ2O9aRv8Slcxbgs7ffpVc1cPLy+f9KdPnsiePbsxvqiNAgVcDNoMHTbi8IlT9WZttcowUiegdTv2bOn6LezlDLoVVTZR4O7du2UDKlbqP9Uqw8jdglllyBxa0VYGioK9KGBxb8ahP2uOXE1WHjfekmmfg03agjr5Ll04J0QCWuJEAdL5h+57bz0t32+ysu21/duWtAzosPNWsrTeSriyvG1QhxI+buPGjFICRTn6FLC4ziAl49BvK8PwQDShIc2j/3CiB2T6s2bNKtZpUBRIQSva0kMU2oomBhTQ5xmOkoiVkZIZtDSo8m/QdsnSpSal2Ab9OEPV6NGjZ8yYER4erjvY1YFr/EpXdU3toVtrDKSVX5lqq1YHGqOJWlspoM8zSGmSpHLXipXp/fnTsC2DO03+IsNo/0RTAjLtmzpEe8tUvn6uqdOi/dRWCYiKAr/88kvXrl3d3d2bNGmyf/9+Ve2KNesyl6ulAsqXYbdvLmtTdVyxNL9/mXfX+H7/vXkjV0mFLOVq0YMKKC6jSQF9uRmafo8c/rpdb+zb6tq+rYW+7eyRLe/VvVt2je/jmaeAX5mqKmT0nqtWrVq/fr2LLb/48ePbgu4SQ/h0qxpOzF1yr8ePH9P/okWLVq9ejS6/U6dOzZs3l06D58+dq9Ipn6W7r/y+ZpbSVSv2mRh6/vj+GcPCQm5WGzJLiZw2Z76/x51TQkQ5+hTQ5xk2wUncdQ6Xr1+8uLJrY7E2PxVr3Yt756hY58KWlSFnjmh5Jom71/3799OmTYuGx/zv9evX5pHBjDl8Rgf3xhBPyt8F+n/27Jk0iwzn6f//BgwY0LNnT4TLf//9953bnPJ9LE1ztnI1Kw+cRm2eGo1TeGf8a8j/in7Xw90vl4zvltbrXuht+VIU7EIBfZ6x1HX8RIm6HHok1T6+df3K3s3hD+6+fvlCBz9ePD8/v+7du+tUxQUQh7EY5Unp0wDP7969W0kPiUszZMhQrVo1JVy37F+/tQz3r/vd1mFdru3fquSZeJ9YlIvKDUXBVgro84y3t3fEziO6fQWfOLhv+tDrB3e8efnCM2/BxMlT6qJF3A329v5ctypOAFEO8vryi+mnlZX6yZMn515NmzZt1apV/vz5pfum9fJ5cudWGrccuo+RMn1mGY4pjZu75+Nb12QIhSd3gj08dfYLShxRtpUC+jIArJXvXjih7Yu1ZXHLgIRJXJsu3t/18JNvFuxKmsr9Ez2jZmw36UTbg4CoKPDkyZMECRLUqFFjyZIlWCtPmjRJZhgwc+bKFXruuKqJfBnx6L5cpvA87GGSlO/Zy9w5f5welDiiHH0K6PNMgQIFIh7ee3D9kuoGNw7vehn+pHyv39gAxHNxeRnx7Oldne0yDZ89vMuOXNVcXGopcObMGQ5+a9euxR5Zu6zVrVnj6naLwuJLO97JxG4e3v3y2dO070turmwPpAftTQUkOhTQ5xk2DJj3n1waeb5U/pKkSM3lxW2BL5+F37t0dk23hi/Dnz67f+fNq1dKtJPLpjeoX1/edSirRFlFgdy5c0u7MhVcuqxdq+blXRs4NOrW7pk08NyGpRGPHrBh3tDnO/eseZTCGFpdDlr/VW2LomrdPgXQKgUsnhF1bWcQVP3Zs+nZ9Ys/+eS/RK7JS3zfnw30kYUTaoz6I0/1RtLN7l0+v7hxscsXzwvbGavUN4NgYDtTsd+UPZMGhN8L+SSei2+hMjVGzE/ulUHuU9jOyKSwb8Eiz3AbbDRnLF9TZ9Y2lY3ms4f3Xzx9nMInk7SSoFlL5pleKr968Xx6QCZv95R7du9G0GzfZ3XO3rCz9C9QqFDnEbmrNdRSAOnew5tX3Dy8Erm6KWuPLZl2ctawE0f+9vCIig2BsitRVlHAiGdArdOg0fGbd2pP+VPFNqpepEsYZvl3Fcr458rk4/n777/Pnz+/QoUKupgCaBMFjh07VrBgoa8mBWYtW91Mw8u7Ni5vW/XChQvCF8AMuWzF0T/PyL0sX7wwo6vLzEp+WCvLQN0CCCtbli/ol2HuzGmDBw9Gq92sWTN0c7jj6uILoHkKfP7556dOnVzRvsaJ5TONrfioPbV67pafv8VwSTCMeQrbhGmFZ9BYb/9rc88u/8O8P2h0D60kjZsBDBrTE4TW9WquXLqIJgC/+OKLEydOIBQqUaLEpUtq+ZtNjyiQoQCigsuXL/+7aip0vhy0AU9mFVmAAKf2xrIJRw8dQPKpQhCXdqMAXyarv82bN4eEhLTv+L806bx8cuT1r9GoSLNu/FHgEmC77zuBoNvPhAkT2FIvWLBAt1YAbaLAixcvAgMD8xcpnsQt+acVahVo0Ma3cFn+UwYCnFpw1q1bZ1O3AtkmClg5z8CavXr1GjFixKtXr9Ae0DUmz1KsJgoBAQFsG/ikGYuVWXAaNGhQuHDhKVOmJEuWzG7s7sQdybGa2rdvD1URUcqxmjZu3IiqZ86cOeyNnZhCMTl0Yw7jQJI0aVIU1Vo07Gv+/fdfLVwXgn9ImzZtsEDD7lAXQQCjRgFeDVXDPXv2JEqUiFmDbVRV4tIuFFBTXNkpDOPq6sqsEMFECZfKnp6emD9r4QaQ5cuXs08bNWoUFooGaKLKPAW0PHP27FlJSSrYxjwZbcK0yDM9evSQGIZZyZw5s7ZT1C+WzjBaZBly7do1pAIVK1YkAKQMFIUoU0DLMxAWbgHOT7BNlAlr0FBfbsYKM3HiRNnhVjeoKZ0aH2OkaVP9z5gxY1BQUPHixTkIsfNW1YrL6FOATUFExFupGs45HHjYpEW/W9HDOwpo+QnTWnmFkfBQTWrRmBtU1Fq4ScjOnTt9fX27dev2/Plzk00EmpYCTJAWyHnm3QR/8gmhaPGa1qIJSNQooLPOTJ06lfOGpGaRSK9rBaPCUU6SmXKZMmVQb6NzKFasGDHvzDQROCYp4Ob2zo4GQSVTyYbNZFuBZpUCOjxz4MABZC+lSpVCXCZFyybyvLajaPIMHbJSETMAeRpbtblz52pvISBRo0CKFCloCLdwniFGx6NHjypXrhy1rkQrLQV0eAZCo3KB7iNHjmzRogVtSpcurW0ZfZ6R+mzXrh37NO7VuHHjsLAw7Y0ExFYKFCpUCLuBhQsXNmrUCMVa4sSJkyRJYmsnAt8iBXS3dDgCpEyZEhdCalGf6eJw5pEQdGttBUqnVQR0rHK2tnVmfOZVO3wC2UhActTky5dPiyAg0aGAzjrDNPCJql27trQtTpUqlS7D2WudkTrnQzh58uTffvsNL9/hw4czJN2bCqAZCshObGXLlr13796pU6fMtBI4JimgzzPz5s379ttvjbuwL89I94JRMckhKhqSOhE01Zj+ZmpRBhCUg9k0gyxwTFJAh2f4LN25cwf7JeMuWAqioJ8x7pNawhTt2LGDDyQKHJjHKr5AMKYA3z4MZPnAGaOJWvMU0OEZRFgQ2io/xMQ6Iz03stF+/fohUkM80KVLFwx1zY9HYKooQPQfHx+fbdu2qeDiMsoUUPMMUeo4zFjdmHG/mOMZaTCY2GAQffPmTQyiz58/H+URioYYODOngg52o4BKgIBmBkGzCqh7yRPowu0OnD59OiHAZ86MdFEUPxUFzMzCjRs3UIXxjVO1FZdRo4B6ncFdCe8LqxzJBFjdvFntxCRC69atd+3aNW7cuIYNG6KeM9lKoMkU4IiI48ahQ4dkiChEhwJqnuHYbSZScExvzFRDQkPHlONZ5e/vv2/fPlWtuLRKAb6DJEm3iiYQTFFAuTxxeGAR50ijBOqWMazErEa3KkaBxJuEc4jRYeYhY/RJYknnzLGZJ9m6dWvRokXNYAocqxR4b51hkalSpYrSOtMS233gdUZ+DDSeR48e/euvv8qXL3/r1i0ZLgrGFMD6iXgm6DeN0UStGQqoecbMxox+4cUPdp5RDQPJKV/NSpUqocBh2VHViktdCrAp4CuzadMm3VoBtIkC73gGNQjvohkBADf4WOuMNDZWwp9//nnNmjWkBOvYsaPsYmXTyJ0NmR2EcPKzy6S/4xncJz/99FPOM2b6/bg8Iz0hjjfHjx/H761IkSI4wZt5bGfGYQeBGIANgjMTwS5jf5eziUNC9eqmQpty49jAMzwGxteLFy8mozfePsOGDcMVxy5EcchO8CrHR504WwghHXKAJgf18OFD1tsDhw7fCL5NLsYMPj5ZM/nWrPklBhNmTvLc5d06QxQl88EXYwnPSGRq2bIlAmjMouvWrQtFTNLOCdHIBuXMybRPnz5dq16D9BkzD5y+8JiL5zP/ikkrNruSJufqs7dLV6yaOXvOhX8sMhMq+V1MQL7ZBIk1GUYeCUyOHDlilRyG8xihP1asWEGo6JIlSzoJSyCJMb/dIkoWIenGjh3rJMSRhwmJ+vYfOHHK1M+/7VqwaWfyKMpVcuHW8f1Bw7ukcHm1ad0a5EwyXFt4u878888/+MmYZBh6iVXrjDQqAkfgfkMwgzp16gwaNAgFjna0Tg4h85xzrjM1vqq7YN2W5n+eL9qqpy7D8GL45Cv29aL93tVbFCxawvg9ecszbMxwiDVGVdbGQp6RHo+TLoIBnKXxZcDOSvnMogzPoN1i7pyKFLXrNTh68Vq9OTss5UtWUiN/4+8zlK/j7ZvZQPsXRZ75iPoZ5Qh1y0T8kOQZfAVwKNDFcU4g22+I41RG4uPGT/j79IVGC/fET5hQd9LJrKjKbFm+16+fNe9euUZNS2ebtzzDkm1TythYu85IdGGXz9kGjecPP/xAUDyCDejSywmBfEfYUzjJwAlqOXDwkIpD5+rux+5cPDWnboHxxdMc0+SNZbV5/CbB0mXLdQkVyTMsGtARNxVdDF1gLOcZ6ZnR27BPI6AEL4rwiZdo4lRHmvETJmYuXTVdrny67/CxRVPIrNh2y5W8NZtqEcr0GvtT3366+9hIniGJHFH/dAPMavuSIHGCZ3hUokngbsWaQw4pck5YGo7zwPkyEnHBSca7LHBt1soNLQ327qUzXp8WSpk+c+JkkeHgVD9EAk8jXqDOUsG5jOQZvsFI7rV1BpC4wjPSEHA7JfjqjBkziNFx//59g3E5fBUKTSexmWCiL5w5nbm4TkZXsibPq1845PThf7YGUrj7zxndec9ese6aNToGjZE8c+XKlUyZMuk2swSMWzzDKLJly0bkNP4T7wsrIUvjcng4GVCISof+2+FHiiYqRToflwTvLF3kISdM6pa13JdJUrmn8M5IIXEK/WhkydJnuXRNR/QayTNXr14lGJ/co5lCnOMZBoVt7+jRo/GRxt+TGB1Oq8DJmjWrM2Q4RVic0ttX92VOkjJ1yQ792JWly5OfQvJ0+hpMOOqmnr/J23UmS5Ysur1bAsZFnpHGQuRiYquz5uBScv36dUsDdGA4c83OwoEHKA2NiJYRTx5HZ5jPnzxSRouXu3rLM3x7ZJCZQmzWz1h9fvYnWOlhnIYQidRrVvEdDIENKjsLBxuUdjhoosLvh2rh5iHh90J9vXWi+0fyDOb05q1mpFvG3XVGen4UOKhu4Bwy7BKjQ85OZZ6gcReTID7EfIy7z2/yyVlOnz64FxYadWfe24d3Fi1cUHu7SJ5BwmDSbUZuH9d5RhoI6wz7NIw7KRBLTR6dYxf4PvKVdOwxMjrSjFeqUvVyUBRDsb56HnH971046mkJ5UL0IzZtpJrR1hlAHINnGCBJWogb2qdPH1x/J0yYYDBkh6lCF+cM6wzz1aF1y6OzRqpMY0zO4+H54ypUqqQb4N8lCosMd3UYnpEo+M033xw8eHD+/PlffvllrHJwMDnBNqE5yToDTbDT9fNNfzpwnk30Afl52KNj834bOrC/bkMXTEtssgCQenEwnmFQfn5+xBDNkyfPZ599RtoWXWI5BpBvJ5PuGGMxHgV+l7OmTd47ttfNI3u0mI3mbq/6y0wt/PXLl+OKpurYvl3evHm1tUBcoqamcDyegRYocEaMGMFqw7LTu3dvMoTpkiyuA3E0cp6oI9g9LJgz+48mpW4cCjIzcRxjVrSq0Pr7/w0eNMASfiTPcFqyVG0J7pA8Iw02ICAAy06Msogx4JAyWXjGqVIt1KhR/eDBQ8taVTy5Ypbx2Sb03PEVzb8okSfr1PG/WXrzgUeRZ+K0fsaAHFIVp2RCtHz99dcYRBOjwyp+3EIgvSZhUOPWM0fzaQsXLnTi+LEHm+fPq5nn+PKZKgE0jHR518ZNPzVd3KRk+8Z1F86ZZRxMIwHrjCqdvJnnc+B1Rh4+qW+whsbQZvPmzYjUdFXCMnIcKpCG0anWGWlq2KTt2bGVk+rkGbPmj+nhltrdNU26JMlSPAq+8Tj0Vo48eb+u9eWN9Cnu3bWuuUpAKtkoZEt2Bp6B1oTqZJNG5EHsvpcuXcplHOINS48qxdq2VOvAcF5a3N1nTplITnKsh27fjozVRLiM9OnTS/pJbKmYYhQPUrJ4i6QgegYiI/ZaNv1IbkFsF5uaxGlkdmioz4nREdtGwbza+kgXL17EVMrWVnEdH4YpU6YM5EK0YzCWJk2aSCmQDXBc8BGPQlIXJ1ln5C8NOzRcWeEcYvPGdYUgQjO2Z/LQnKTA6sEMcgwx3lX16NGDWFbGe1fBM2bfGdwldu/eTdhEPHAIbG22WezDIzpC0qRJY99zxeAT/fnnn+wRsCrE3sWYZ9DOsQ83znTtglICQYqtRorOts5I8wnFhwwZgrM0CcTxl7YUlyQGJ98eXcMzDiPPMEMPnIXYJkhxVFCrGPMMHWK2axw2MdJGEwtQ9rhmbi/jOCfPSMPHIuPkyZOkc+FEd/nyZZkmcaVAZi5SBcaVp43mc7IYVKxYUWIYukKIjJuqcZ8ce/ga7t271xLaW56x1QmJE9LHyj9jaSQfEo48gEBQrDaEtmHZ+ZC3jv69goODnYdnGjduzHj5xMt0s7rOgNm2bdtp06bJTVSFSJ5Bbmbr99KZ1xmZgsigt23bRqJCYnRY/XrJrT56wXl4hsApgYGBSoLzrTfDM2SHp6GlePmRPIPk8dq1a8qurZYFz0gkIicu4RQRQyHXjyuhkHGUN47hbXX24woCGYpQyAwYMIA8IpzbUUWy6TLDM+wjyCtjSRIQyTOkarJ1vgXPyO8NMzF9+nSE+vgnjRkzhi+ZXBU7C3wfbQ2ZEjsHYuapyPOOtIZVgSRFRFAhgXGJElZCmEvdksuIadW/hbRaIUhBJk3Z5I+8fKSDNYnsJGi8i8WLFyfRJwrmDzZkJtWme/GxY67RyNnUKk4jo4+SjF1sHUX27NmxAtG2ilxn8FXkSGOTc69YZ7RfIDYAmEeQUpx9WqzN9gpj4y5lxTZEO7a4DEECxhaal9zWQdSvX1/XQjeSZ/gx04Qvkspm/gue0aUS4n9S3yxZsqRVq1Y//vhjLFTgEDOVrbjuwzsqELtM1ANRGB1aHaZS2/Atz7DJQ8mtrbYEETxjiTLAEfDjgYMhH18i/htgfvgq8uMJnjFJdlYnpDs4vavw3/IMhxPsC4zNbJQt2eQ5s35GSQrdMnayq1evJgoUohtL4hfdhjEN3LFjh8lDcEw/yYfpH52m5D4YtdvpLjVveQYvK8yoSHVksmuxzpghFKlveEfxl8ZZ2oyI00yf0cHBpJfdBE5B0ekkbrUlxgN65yjb1zFxy5YtUw35Lc8AJWY+n0ZVteoSeUvz5s1xYJw4cSLbD1Q/XDpV3iwVQaxeshHCnJYzN58k7SpvtbklhEmTJmG1zg8EqUDaakvIMpwnQeoahZApcg9xrsApHZ6J8mOTaBlTaEyl3utBFqVhcoZJBQuIDNEWYA/VloweMZ/WYgqIigIrV65EOYAax5jCqlaWLnWVkpaQZfiwYcM6d+4sXzpDgZWAc3x0Rvr999+PHDlS2cN70v2yZcvijais1pZz5cql5Dl4BlsMLZqAaCmAGyBxOQg+GH2KYdmOzkGeCMq//vqr9o4qCLdGsaYCOvYlCgAWg+iMEcNC6Kbs4T2eYeuGzEdZrS3jGa+cLdhMiyMglihA9IWBAwey4CBxsYRjBo7fGx4cMs9QBmLckHws7MpwbDZGc6RaaMKuOJojwpIQ3Q7/5X7e4xn0CSz67N7kam2BUL/ybJF5jy2HFkdAjCnAQdzX15cYHdF5gytUeJfBi7LxHallaWrRooVVNEdCQLOMwCP6I2KdYbWR+3knA+CjhU9Vhw4dOF/KHzBtAfM1NhgSnF4I1qrFERBjCuB4g9UFWzWOp1GWoGBVzTeLG/G/Y8eOxneklm09klOraI6EgBUl0eujPyIsCTFgf9ePzD1SgeUM3QKaOBVcecnawjzBYEyVEi7KtlIAJw2+Qb///rutDcFnUyDZgzAXVm0FMZlBnUCTKNwo7japV68e3k3Rf/6dO3einpb7eW9vJkGHDh3KzWQMbYEdBQJvTv8olbW1AmITBfD3xAedFQBvDRpiTsv3DKm0mU7YFDALaIGsInft2rV79+5W0RwMAQdkEi9Hf1AoRnnhsfWUutLhGTCI+IS/jsHNpCXPAEFUmacAnrcINEkDjL26pH1D6A/Qag/wGwxm9ctFRHPimuNJYrVDR0LgNUZYZa8R8cKjHpV60+EZKmbPnu1U4cvsRdno9DNnzhwWDWnTDOdwXIlOb8q2iKFRQyshzlDmU5IzZ057jZRjCO43Um/6qZrwdJ8yZQq7bRyj3x19PvkEeeW6detOnDl381Yw8Aw+3v55cmGrxrqkRBNlWynAZKDIR90pNWSRIb80hhtso7VdUcsuYNPmLf+G3JEcldN7pq1cqSK2bdIypWyCdHvcuHFaAxAljkOWcdfHw8VeQ0PuJadefU9uJt8Am/YFCxaQT0KW6uAZUrBYyZx5P5u6ad/ZJL5vitbijwKXAKkCQW4uCrZSgPMGkjRl9g4YA/8Njo7KrkJCQn7u08/TO33zLj33Pk0amqlwyprt+E8ZCHBqwVE2wUKUbX3hwoWVQGco25dnyEWDG4VEt3h84SxRcOrUqXztkLI1+671rv0HS3QZnqtK/Xguajb7782bcxuXkRmnZtUqUyaMlbU3lroVcC0FEABgvEeoQYIJwSeSgTnbcc73bAkk/C1btjRs3CRj6WoluwxNllYn2NKTO8F7xv58fdf6JX8sIEARrdDE4WyI/pRQhtqbOjYEKyFcuPkY2WWYiByRT3IyZP9sxDPcrHLlyoePHvctUyOg35T4CRMa3J7sUFsHtc+S+NXKhXMM0ESVAQX4fmG4ThqPFStWsB3n68NLjwyNVeKPRUva/6/zV9M2eua2Emc95OyxVW2rHDl4IGuWTH379kXKHKucEQyGb98qNId4/tWqVcte3ZIDDx0XQk4jnuFrx7QV+qZT+d7jTd54bt0CGVK67t25TT7Ommwo0FQUgFtwMIR5OFKGhN75qnatNpsupfI1tUF/eOPy9MpZZ8z8vUf3H9nyEUdC1bkzXLKbwjOZV9xeg0UBw24ZrYARzzRp1uJKfPdS3d/uDUzee0ufluWye40ZPtQkvkAzpsDZs2eLly5be/pmqyuMsp+7F08vaVpy9swZTLMS7jxlXCzJr6y0jYzm2PFal8wF1YcTuV+UQWvWrivcvp8MMVko02vsjOkzaG4SX6AZU6D3gF/yfdPZKsNc2b1pZJ544fffphzyyJ63YPPui5avMu7cUWsJ/YNBqh0ZBkJxOpJCZ1rkmZ69+xbt0D9xshS2kpUmxb4fQHNbGwp8LQWQ1ewMCirU8kdtlVUIrWgrS3us4jsSAsJDjMftOyLMatEL06c+zyAl2LplS84qDaJ2Vxr+tXkznUStuWglU2DtuvVZytVKkOid2b9cZbVAK7/ytdes/dMqpuMhIIfE9MG+47LCMyhbvHP5u7nrcypZPOc1LPpbwWQzquY4OCtSOap6ONc0aX1y5wsKClLBuSSxAbkKcPa0NXKntitngKxcuy5rhTq6I414/HB975ZTymccWzjln72+ffbovhbNL+CrVWvXaeEOD8EJn2Rk9h0mohR0+rzt+nYAmKm7+WTRveWB30ftHNMjX4O2Bb/pdPPI7h1jer5+8bx4u94q5GTp/ehEBhJBAg/Q8ePHX7hwAW03wXPxTbeLnbZ8C4cs3Lx+vYCerIxUw380LRN+L6RIy+5JU3ucWbfwr8GdtBRInTHrjRvvZkGL4KiQmFhnECqwdmH4r88z8JOrl6+WoM+fPN4/fWihZt3K9xxDbd6aTV48eXx0yVQtzyT1zEAsbRTb2FHjkLN+/Xr4BPmp1Kd9D2fa53QMCJ+0e3dCkqfTsUs6u37x3Ysnmy4+4O1f5P8noiksdOvYXtXAk6X1uX8nlH5UURxUaI53GRPrDFTCccMiz+CY8fLJeyYYElmDTx56HvbQv05LmcrVhs19FREuX8qFl0/D3Nw8ML3BhRDdNmuL0gwEzU+7///J+KJgiQIvwp8kTZRGVXv90A73rHkkhqHKJX58/7rfaXnm5bOniRIldjaGgSAxsc7QrZR81kU1GdKlp6fny4c6idIf34pMuZHCJ5PcCuOAxMl1No4vH4TSCYal2IMQ+wPdqDIfHRpPDHP4/omfMQUyZcsZ/kBnIsKCbyhngelImT6zPCly4en9UA9PL/nSeQoxtM4Y8UyhQoWuHtyhJbHEHi/Cw+Sq50/D7l05/+b1axkiFWiOxQe+nPhSo8xmReMwQ/BvNoUwjGzAq2olLlUUYCJu6E2Eq3u6iEcPlMgRj9+7lKpuHNrpnIfGj7DOZMuWLXWqVCFnjipnhbJHtrz8v7p3iwwP+vWnRU3LqAw3MXlKlTIlncho2Le1bNny6NGjmFH98MMPuLzxNsi1omCJAnVrVr+5Z4O21jN3/pAzh8NCb8lVl3bqyJT/3bOBHmQc5ynE0DrDeQZu1N+bQdzWLZr/PXOYisrufrn8ylTfMar71X1bUTmfXDn71Oo5n33VQrVj/nvG0DYtW6jaSpe4NOA7zYbEOb9/ujQxAGJoeOvYvjsXT6lw/Ou1SuSWPLBzvTsXToY/uHt4/vgzaxeocGj179G9NWvWVMGd4RJPiigkz7BKGfZNHMst8kynjh1Cju1hxVB1VH34PN8iXyxvW3ViqXQb+7XOXb1xqU6DlDg0uX10N82VQFGOGgWY+J4//nhwotqCCWOLxvOCXr2ImF0738SSaY/8Malcj0hJpvJHK9rGxKujvEvsLLP/h23s/mysDXzujWw0V68ObNm+49eLDyRP56O6/esXL8JCbibzTK9SUbNbmPJF+lWrVteuXUvVRFxGjQLIGIuWLONWuHLJTgO1PaDZfP3yhVb7vKpjbbfHtw/sCXJOA3N8uZE88V9LsehAunXrhmZTXz8j9ct7f/T4iVFf5m0eeDK513v25PETJdLapT8OvjG/XoFhI0YJhonOxKja8tJvWLvaL1t2vnCl/vfekg5mkhQ6FiIHpg+7uC1QcpBS9eYklygDY8J0S9KaGPEM9B3Yvy8i495fF6kw6He/MlUNKH45aMOmn7/1SZum+beRwerFz44U8PLyCr0dnC1n7peP7xXrOChpKndLnT97eO/iugXBWxYTJwC5iyU0h4fzoZF8Xe07Us4zfLksnmfkm3Vo12bJ/DlHfv1h5XcBZ9cvQbgsV1HgEiBVICz7Y8H3HTqgxJT1/UpMUY4OBTiWXLpwLleiiFlVs++fOlh7zgQCnFqPf48fObAXNovO7eJ62xjiGZZu1IxG5xkl4dCoEFVj7qKl+3fvSp7WK3m6SH/0sNDgsDu3i5Uq3axRA7KgsHIBRL+PyTTxbaVLZSeiHH0KXL16ddjI0es3bgqPiHBLky5FOu/HocHoLl2TJKlWpfJPPX7EzSP6d4nrPRAMAAkt/+07EGI2oG80yzPyvRFH4GLO0g+E0HVEslPFB8LGrGrVqniWjh07Vm4lCnanALOAphjnKpYU4soyEXa/RdztkATAkIX/9h0C7s3IFaycZ7S3hENIQaPKQqNEY89HJCgCc2Edw5qjrBJlO1IAJhF8YomeMbQ3e/r0KXszm3nG0lMq4ZjlEDyFEHVkopOCBilrRVlQIKYpgH2jMlicvW734MEDDw8P6zKAqN2POHSkD2jcuDEhIKLWg2glKBBlCuDoQqKkKDe31JB4ACROiyme4a5EfCZPULVq1WLi6S2NSsAFBaAAhxlOevYlBSd5XCcJMxCDPMMTI0wj6DBx2WJCWG5fiojeHIkCMcEzCF1YZDCfiVmeYRp++eUX8g1+9913jjQlYiyxnAIxwTP46sMzDDzGeQa+nD9/PuHOBg8eHMsJLR7PYSiA8QqCePsOh3VGElTGOM/w3PiZoeKcPn26E2Z0sO+0id5MUkAK1HTv3j2T+GbQPijP8ECslUSnJ8o9EbvNPJ/AERSIJgVy5MhBkKNodqJs/uH2ZvJdiTY9d+5c5AFSMEIZLgqCAjFBAZKIXLx40Y49895+oPOM8qGrV6/es2dPpM/CiFNJFlGOCQrYl2fQkB46dEhyLv4Q5xklRbp06VKiRAmMdkQYDSVZRNnuFIBnCNpqr25JSYLxa4oUkeHLPzTPcEtCBBJDg0ga9hqP6EdQQEsBghyxMmjhUYPs27evePHiUtuPwDMYcRK9icia5LiN2gBEK0EBqxTAjBjrewLQWMU0g0DSX+wnJcyPwDPcWDLi7N+/PzkizTyxwBEUsJUCuG/lz5/fXqH0P/I6Iw0elyBWG2HEaeurIPDNU4AYeoTSN49vCRODSTSkuXPnlhA+zjoj3Rsjzl9//RVhmjDitDRbAh4dCiDmIgxldHqQ2rLIsDHDokW6/Jg8wxM0bdqUpUYYcUZ/XkUPWgqUK1eOzT9RL7RVNkFIx1S6dGm5yUfmGZ4DI058pElLLT+TKAgK2IUC6dOnx0Xs+PHj0ext1apVNWrUkDv5+DwjGXHimjZkyBD5sURBUMAuFAgICCAzRXS6Ih8MnjNIruVOPj7P8CjEGMCIE9GzMOKUJ0YU7EKB6PMMShGiZr/3MOz2YsmPNZSV9MCBA7HkecRjOAAF7t+/j40zLo9RHguChL/++kvZPFasMxIT+/v7z5kzRxhxvvdJExfRo0Dq1KkLFCiATb1N3dy8eZPwL9u2bcMymjyZyBKUzWMRz/BYyJ179OjBf2HEqZwkUY4OBerXr2/rnp+TAqxCGpJSpUqhEZGlzNJjxC6e4Zm6du2KYY8w4ozOWyLaKilQp04d1hllOldlrW6Z+Bts54hmhipz06ZNuGeOGzdOxox1PMOTCSNOeXpEIfoUIFIMUq/Nmzeb74q9GQcYCZ8tD2tOnz595OaxkWeEEac8PaJgFwqwPVu6dKn5rmASGTl+/PhwHU6aMuQTpUAgVpVxfuBZJT1urHow8TBxjgIkwcT1hY2WySfPly+fxCF8vlGMSsuO3DY2rjPS40pGnI0aNSJmzTsWFyVBAdspgB193bp1Z82aZbKpFHyDxE8wDJbR/Fc2tDkvgLLxBygT56lfv35Yp5Iy9wPcTtzCUSmA3o/wlEQIQAj2zz//4I4WEhLCKZ/ge3j5lylTBg6Rx062H9Kk+fr60kr74sV2nmEYvXv33rlzJ8Jygr3LoxIFQQFbKfDpp58WLVp8a9Cuh48eZS7yRcLU6RK6JX8WcvPJv5dvnT1eoVKlEUN+wVMNr3vOMDlz5sTPTIr5pLpRHOAZ9pGc4VxdXefNm6d6enEpKGCSAiRUbtG6TZoc+Ur/MNIz9zvjMal5+P075zcu3T9pQOs2rQf374vj/YgRIywlV4wDPMOoMJJj9SQTL2uOSRoJNEEBmQIDBg0eP2VazUlrtdwi41B4/uRx0PAuLrcu/L1vtxKuKscNnuGhUTMVKVJkzJgxrDmqMYhLQQEDCsxfuKhN+/Yt1p5Jns7HAE2umlu3QIn8/otmTSOJjQxUFuIMz/DQGHGS4BY708KFCyvHIMqCApYogBb/q/oNmweeSu6VwRKOFr65b6v8aRLOmj5FWwUkLvEMj7tu3bo2bdogzUCmoTseARQUkCnAaT577k8LdBvjV6aqDDRTeP3y5ZzqOVb9MU/pnik3jL36GfkRlQXc5Ugsyn9hxKkkiyjrUoBM4y7u3rYyDF3FT5iwRJfhXbr30u02jq0z0hhYaghdFRgYKNKp606qAEoUCKhaw61C09zVGkaBIP+9eTO5pMf50ydVCk26imPrjDT4yZMnh4eH2z2TdRQoK5rEWgoga92/e5df2Wq6Txh88tCK9l+OL+4+t27BSzv/XP9zi+PLZyox47m4ZC9fk7OAEiiVYyRvs/Y29oVIRpykU0cDxZpj385Fb45BAdLFJE/rldgtuXY4IWePLWkR4PVZ4fK9fnsSeguGwewyZYYsKszU2f1PnNGx24qTPMPYUNCSTh1PG8zSEKapRisuBQXYvSdP561LhwMzh6fwyVR/+kbOLSCkzpgtsKuOAsMtrffNAzrpkuLk3kwiBNyyfPlywqMJI07dN0MALVHg8s71uas3khgGnOwVvkqQxNUSshYeh3mGwSAKHD16NAlt7JsFTksmAYlzFCBoXlhosPaxUfa/CA9LptBvusSP75omrRbz6Z3gDD46K1Xc5hnG+e233+IIjVmNSKeunXVnhuCQHHbn9vOnYSoiJHJN5pIw0bOH71Jtvnn9OvxeqAqNywcXT/jnyaWFx3meYUgEE8Q7rXXr1trhCYjTUoCgecVKlWYbpqIAArF0uT6/vPNPGX5514ZXz5/Jl1IBWfPFbWuU4TNlBEfgGTwi0F6dPn166NCh8sBEQVCgWaMGZ1dM19KhWKue1w9u3z6q+50LJy9sWbl5YPskKdOo0M5tXJYzV26tcgY0R+AZhsFHBVH6lClTkAqoBi8unZYCTZo0eXMv+HLQBhUFclSsU334/H+2rZldO9/2kT8G9PotWVqfBImSyGjYzuwd22vsqOEyRFlwEJ5hSKRTh21Ipy5nhGPZIXWocrSi7FQUwExkyoSxf/Vv9Tj4hnLgEY8eZAuo1XrD+W7HnrXdctmvTLVH/15JmT6zjLO8VcXSxYroGpuB4zg8w2AIfYDPN5E4cV7lP842RBiUCSEKTkiBSpUq9fqh2/x6BcJCb8nDDxrXe37DonBOgkSJ8WjcNb5vPJf4GYuVlxC2D+967dDOxQvmyfiqQlzVaaqGIV8SjvrKlSuEG8WfG+DcuXNxuVHFQZSRRcEZKNCz+w8YOP9SM2+D2dsln7Pi7foEnzg4pbyvR/bPHt+69vrl82pDZ7um9kAMfWrxpOen9mABbMl5BorFSRtNg5mGYXBNIzaPtCvDPZU4omXLljVoIqqcgQL4Nrdu38Hz85KFWv3kmSc/Qw49d/zRv1fdPDzds+V9FfEM3+YDkwfW/LLG79OnGjAMDR2NZ1RLCpcYCiBVc4bXQozRmAJhYWETJk6eMXvOg4cPI2NopEqbMFmK8Ns3nt66EnzuREDFilIMDeNOqHU0nmnbti2hNlhkpHWGESJSe/DggfGXwyqZBIIjUYDjLtG/iNXEHgxpMrGaOO4rYzUZD9bReIbREvWwc+fOWHBGRERwwmN7RooOAl0bE0LUCgqYpIAD8ow0csIfYhlA/hDivlWsWFEZ4ppovEilMfO+eSvSHgmbIkwk0PjqKrBM0lGgOQ8FHJZnpClcvXp1u3btWIWRChCAlAS8OKyeP3cWdyK8IzD2Bg1TPCyLMJRA74say5JU3nneCTFSYwo4OM8weITO5HZDdPZNsxa79h/EzztXlfoYHanogn0R5hJof2tWrYIiTJx/VPQRlzIFHJ9nGCoHm/yFiyXJWSig3xTZa0ImgbKA0cTWQe2zJH61cuEcJVyUBQVkCjg+z+AjwKJR6JtO5XuPl4dtXCAqXIaUrnt3igjRxnRy0lrH55kmzVpcie9eqvtom2Z4S5+W5bJ7jRkuDKVtIptTIDs4z+D2XKRE6ZabLiVOlsKm+cSMYlblrAf37iJMh00NBbLDU8DBeaZW3frhucsW+KZjFCby6B+Tkp7ZEbhiWRTaiiYOTAFH5hkkZqnd0zZff8HNPV0UppD8CrOqZHt4/655DXEU7iKaxDkKqEWucW4ABg+MNsY7l78lhjm3Yem8hkXHFkm1tFVlrVsS3RJXwSd3vqCgIINbiConpIAj8wy5dt181IHepDk+tmTaul5NMxULqDxgKryxqtNX1w/u0E5/svR+7yXs1WIIiPNRwNH8Z5QziI2Mq5dO+gBikQSN7V2u++iCTTqBn7va10Qe2Tt5UMYiXyibU07qmeHWrXe+SqpacemcFHBknonMJPokRDuvIWeORDy6lzpT9tunD0u1XnkL7hjdI+LxwyQpUinxXz4Nc3PzUEJEWVDAkXnG09Pz5cP92jl+eP0SwOVt1TlJMDxT88yDUE/PYtoeBMSZKeDIPFOoUKGr/+uqnV1c8wC2Wn8+cfL3VpWkmoA9Vw/uKDz2F20PAuLMFHBkGUC2bNlSp0oVcuaoaoLT5cxHzIT7V84jUpP+bhzcsWPUj/Hix1diEj0+VcqUdKIEirKggCPzDLPbukXzv2cOU00zqRXz1Gi85Zfvr+7dwhmG/1uHdfHJV1zlF/33jKFtWrZQtRWXggKOrNNkdnEB98uRq/qkP1VJrl+EP906rPOZtQtfv4hI7uWbrXwtAsO5JHi3U2WRWdeh2pWL5y0liRevjtNSwMF5hnkl4EjL9h2/XnxAm+oaETMpe1J4q+XRxMKa8kX6VatW165dy2nfDDFwSxRw8L0Zw+a979SuzZwv84bdvqmiAkkUtAxDzMV5X+UbNmKUYBgVucSlRAHH5xnGObB/39EjRyz6uoiujYzyVQBhyTfF+/7Uq1ePH5VwURYUkCng+HszeaiE0WjfqQvJr3PXbUNqUmWmRSwDSLpADHlCYk8e/1vlypXlVqIgKKCigBPxDCMnBinxAecuWkpGXxKUSvkWyYZFch9ylZB6gUjyIn+66hURlyoKOBfPyIMnETZ5fUlTCoQkcuTEInSgXCsKggIGFPg/QLIruK7/gcgAAAAASUVORK5CYII=)"
      ]
    },
    {
      "cell_type": "markdown",
      "metadata": {
        "deletable": false,
        "editable": false,
        "nbgrader": {
          "grade": false,
          "grade_id": "cell-9109b146101c3354",
          "locked": true,
          "schema_version": 3,
          "solution": false
        },
        "id": "nfMh5r1y4hb3"
      },
      "source": [
        "An example of a graph with $V = \\{a, b, c, d, e, f, g\\}$ and $E = \\{(a, b), (a, c), (a,d), (b,d), (c,a), (c, e), (d, b), (d, c), (f, g), (g, f)\\}$."
      ]
    },
    {
      "cell_type": "markdown",
      "metadata": {
        "deletable": false,
        "editable": false,
        "nbgrader": {
          "grade": false,
          "grade_id": "cell-22c2dfb4873ce13f",
          "locked": true,
          "schema_version": 3,
          "solution": false
        },
        "id": "stfupuT64hb4"
      },
      "source": [
        "How should we represent a graph?  A general principle of software development -- really, of life -- is: failing special reasons, always go for the simplest solution. \n",
        "So our first attempt consists in storing a graph exactly according to its definition: as a set of vertices and a set of edges."
      ]
    },
    {
      "cell_type": "code",
      "execution_count": 6,
      "metadata": {
        "deletable": false,
        "editable": false,
        "nbgrader": {
          "grade": false,
          "grade_id": "cell-2759b870a20d4f7b",
          "locked": true,
          "schema_version": 3,
          "solution": false
        },
        "id": "D6Jnz8v-4hb5"
      },
      "outputs": [],
      "source": [
        "class Graph(object):\n",
        "\n",
        "    def __init__(self, vertices=None, edges=None):\n",
        "        # We use set below, just in case somebody passes a list to the initializer.\n",
        "        self.vertices = set(vertices or [])\n",
        "        self.edges = set(edges or [])\n"
      ]
    },
    {
      "cell_type": "code",
      "execution_count": 7,
      "metadata": {
        "deletable": false,
        "editable": false,
        "nbgrader": {
          "grade": false,
          "grade_id": "cell-a57ebf9ec22e948b",
          "locked": true,
          "schema_version": 3,
          "solution": false
        },
        "id": "MnrqIoOi4hb5"
      },
      "outputs": [],
      "source": [
        "g = Graph(vertices={'a', 'b', 'c', 'd', 'e', 'f', 'g'},\n",
        "          edges={('a', 'b'), ('a', 'c'), ('a', 'd'), ('b', 'd'),\n",
        "                 ('c', 'a'), ('c', 'e'), ('d', 'b'), ('d', 'c'),\n",
        "                 ('f', 'g'), ('g', 'f')})\n"
      ]
    },
    {
      "cell_type": "markdown",
      "metadata": {
        "deletable": false,
        "editable": false,
        "nbgrader": {
          "grade": false,
          "grade_id": "cell-1c63e455022a51f8",
          "locked": true,
          "schema_version": 3,
          "solution": false
        },
        "id": "d-jd8AG74hb6"
      },
      "source": [
        "Great, but, how do we display graphs?  And what can we do with them?  \n",
        "\n",
        "Let's first of all add a method .show() that will enable us to look at a graph; this uses the library [networkx](https://networkx.github.io/)."
      ]
    },
    {
      "cell_type": "code",
      "execution_count": 8,
      "metadata": {
        "deletable": false,
        "editable": false,
        "nbgrader": {
          "grade": false,
          "grade_id": "cell-9d09eb0713343e5a",
          "locked": true,
          "schema_version": 3,
          "solution": false
        },
        "id": "fx7brGGL4hb6"
      },
      "outputs": [],
      "source": [
        "import networkx as nx # Library for displaying graphs.\n",
        "\n",
        "class Graph(object):\n",
        "\n",
        "    def __init__(self, vertices=None, edges=None):\n",
        "        # We use set below, just in case somebody passes a list to the initializer.\n",
        "        self.vertices = set(vertices or [])\n",
        "        self.edges = set(edges or [])\n",
        "\n",
        "    def show(self):\n",
        "        g = nx.DiGraph()\n",
        "        g.add_nodes_from(self.vertices)\n",
        "        g.add_edges_from(self.edges)\n",
        "        nx.draw(g, with_labels=True)\n"
      ]
    },
    {
      "cell_type": "code",
      "execution_count": 9,
      "metadata": {
        "deletable": false,
        "editable": false,
        "nbgrader": {
          "grade": false,
          "grade_id": "cell-13a39569439f0467",
          "locked": true,
          "schema_version": 3,
          "solution": false
        },
        "colab": {
          "base_uri": "https://localhost:8080/",
          "height": 319
        },
        "id": "aDD730S64hb6",
        "outputId": "f02d2221-56aa-403c-a567-9786b09d2e07"
      },
      "outputs": [
        {
          "output_type": "display_data",
          "data": {
            "image/png": "[encoded data removed]",
            "text/plain": [
              "<Figure size 432x288 with 1 Axes>"
            ]
          },
          "metadata": {}
        }
      ],
      "source": [
        "g = Graph(vertices={'a', 'b', 'c', 'd', 'e', 'f', 'g'},\n",
        "          edges={('a', 'b'), ('a', 'c'), ('a', 'd'), ('b', 'd'),\n",
        "                 ('c', 'a'), ('c', 'e'), ('d', 'b'), ('d', 'c'),\n",
        "                 ('f', 'g'), ('g', 'f')})\n",
        "g.show()\n"
      ]
    },
    {
      "cell_type": "markdown",
      "metadata": {
        "deletable": false,
        "editable": false,
        "nbgrader": {
          "grade": false,
          "grade_id": "cell-bd7c383e8f878407",
          "locked": true,
          "schema_version": 3,
          "solution": false
        },
        "id": "SLHxyZKc4hb6"
      },
      "source": [
        "Ok, this is not nearly as pretty as what we generated by hand, but it will have to do. "
      ]
    },
    {
      "cell_type": "markdown",
      "metadata": {
        "deletable": false,
        "editable": false,
        "nbgrader": {
          "grade": false,
          "grade_id": "cell-7b797d0d77d08502",
          "locked": true,
          "schema_version": 3,
          "solution": false
        },
        "id": "TNL7XYmK4hb7"
      },
      "source": [
        "## One-Step Reachability and Graph Representations\n",
        "\n",
        "What are conceivable operations on graphs?  There are some basic ones, such as adding a vertex and adding an edge.  These are easily taken care of."
      ]
    },
    {
      "cell_type": "code",
      "execution_count": 10,
      "metadata": {
        "deletable": false,
        "editable": false,
        "nbgrader": {
          "grade": false,
          "grade_id": "cell-be8e6c70be6df845",
          "locked": true,
          "schema_version": 3,
          "solution": false
        },
        "id": "2YlZRIO64hb7"
      },
      "outputs": [],
      "source": [
        "import networkx as nx # Library for displaying graphs.\n",
        "\n",
        "class Graph(object):\n",
        "\n",
        "    def __init__(self, vertices=None, edges=None):\n",
        "        # We use set below, just in case somebody passes a list to the initializer.\n",
        "        self.vertices = set(vertices or [])\n",
        "        self.edges = set(edges or [])\n",
        "\n",
        "    def show(self):\n",
        "        g = nx.DiGraph()\n",
        "        g.add_nodes_from(self.vertices)\n",
        "        g.add_edges_from(self.edges)\n",
        "        nx.draw(g, with_labels=True)\n",
        "\n",
        "    def add_vertex(self, v):\n",
        "        self.vertices.add(v)\n",
        "\n",
        "    def add_edge(self, e):\n",
        "        self.edges.add(e)\n"
      ]
    },
    {
      "cell_type": "markdown",
      "metadata": {
        "deletable": false,
        "editable": false,
        "nbgrader": {
          "grade": false,
          "grade_id": "cell-58d8c12d94409d3a",
          "locked": true,
          "schema_version": 3,
          "solution": false
        },
        "id": "9YpDHf_m4hb7"
      },
      "source": [
        "Further, a graph represents a set of connections between vertices, so a very elementary question to ask is the following: if we are at vertex $v$, can we get to another vertex $u$ by following one or more edges? \n",
        " \n",
        "As a first step towards the solution, we want to compute the set of vertices reachable from $v$ in one step, by following one edge; we call these vertices the _successors_ of $v$. \n",
        "\n",
        "Writing a function g.successors(u) that returns the set of successors of $u$ is simple enough.  Note that the code directly mimicks the mathematical definition: \n",
        "\n",
        "$$\n",
        "\\mathit{Successors}(u) = \\{v \\in V \\mid (u, v) \\in E\\} \\; .\n",
        "$$"
      ]
    },
    {
      "cell_type": "code",
      "execution_count": 11,
      "metadata": {
        "deletable": false,
        "editable": false,
        "nbgrader": {
          "grade": false,
          "grade_id": "cell-d98dc4c9592a212d",
          "locked": true,
          "schema_version": 3,
          "solution": false
        },
        "id": "5d6e4YOu4hb7"
      },
      "outputs": [],
      "source": [
        "import networkx as nx # Library for displaying graphs.\n",
        "\n",
        "class Graph(object):\n",
        "\n",
        "    def __init__(self, vertices=None, edges=None):\n",
        "        # We use set below, just in case somebody passes a list to the initializer.\n",
        "        self.vertices = set(vertices or [])\n",
        "        self.edges = set(edges or [])\n",
        "\n",
        "    def show(self):\n",
        "        g = nx.DiGraph()\n",
        "        g.add_nodes_from(self.vertices)\n",
        "        g.add_edges_from(self.edges)\n",
        "        nx.draw(g, with_labels=True)\n",
        "\n",
        "    def add_vertex(self, v):\n",
        "        self.vertices.add(v)\n",
        "\n",
        "    def add_edge(self, e):\n",
        "        self.edges.add(e)\n",
        "\n",
        "    def successors(self, u):\n",
        "        \"\"\"Returns the set of successors of vertex u\"\"\"\n",
        "        return {v for v in self.vertices if (u, v) in self.edges}\n"
      ]
    },
    {
      "cell_type": "code",
      "execution_count": 12,
      "metadata": {
        "deletable": false,
        "editable": false,
        "nbgrader": {
          "grade": false,
          "grade_id": "cell-21259917b71bfd13",
          "locked": true,
          "schema_version": 3,
          "solution": false
        },
        "colab": {
          "base_uri": "https://localhost:8080/"
        },
        "id": "jlf4Zess4hb7",
        "outputId": "e18d7619-22c4-4572-b287-caa497f449bf"
      },
      "outputs": [
        {
          "output_type": "execute_result",
          "data": {
            "text/plain": [
              "{'b', 'c', 'd'}"
            ]
          },
          "metadata": {},
          "execution_count": 12
        }
      ],
      "source": [
        "g = Graph(vertices={'a', 'b', 'c', 'd', 'e', 'f', 'g'},\n",
        "          edges={('a', 'b'), ('a', 'c'), ('a', 'd'), ('b', 'd'),\n",
        "                 ('c', 'a'), ('c', 'e'), ('d', 'b'), ('d', 'c'),\n",
        "                 ('f', 'g'), ('g', 'f')})\n",
        "g.successors('a')\n"
      ]
    },
    {
      "cell_type": "markdown",
      "metadata": {
        "deletable": false,
        "editable": false,
        "nbgrader": {
          "grade": false,
          "grade_id": "cell-bb9d668d8867e503",
          "locked": true,
          "schema_version": 3,
          "solution": false
        },
        "id": "0hr60u6b4hb8"
      },
      "source": [
        "But there's a rub.  The method successors, as written, requires us to loop over the whole set of vertices.  Because self.edges is a set, represented as a hash table, once we have a pair (u, v), checking \n",
        "\n",
        "    (v, u) in self.edges\n",
        "    \n",
        "is efficient.  But typically, graphs have a locality structure, so that each node is connected only to a small subset of the total vertices; having to loop over all vertices to find the successors of a vertex is a great waste. \n",
        "It is as if I asked you to what places you can get from San Francisco with a direct flight, and to answer, you started to rattle off all of the world's cities, from Aachen, Aalborg, Aarhus, ..., all the way to Zürich, Zuwarah, Zwolle, and for each city you checked if there's a flight from San Francisco to that city!  Clearly not the best method.\n",
        "\n",
        "Given that our main use for graphs is to answer reachability-type questions, a better idea is to store the edges via a dictionary that associates with each vertex the set of successors of the vertex.  The vertices will simply be the keys of the dictionary.\n"
      ]
    },
    {
      "cell_type": "code",
      "execution_count": 13,
      "metadata": {
        "deletable": false,
        "editable": false,
        "nbgrader": {
          "grade": false,
          "grade_id": "cell-f991777d59e659fb",
          "locked": true,
          "schema_version": 3,
          "solution": false
        },
        "id": "TUK0wEtP4hb8"
      },
      "outputs": [],
      "source": [
        "import networkx as nx # Library for displaying graphs.\n",
        "\n",
        "class Graph(object):\n",
        "\n",
        "    def __init__(self, vertices=None, edges=None):\n",
        "        self.s = {u: set() for u in vertices or []}\n",
        "        for u, v in (edges or []):\n",
        "            self.add_edge((u, v))\n",
        "\n",
        "    def show(self):\n",
        "        g = nx.DiGraph()\n",
        "        g.add_nodes_from(self.s.keys())\n",
        "        g.add_edges_from([(u, v) for u in self.s for v in self.s[u]])\n",
        "        nx.draw(g, with_labels=True)\n",
        "\n",
        "    def add_vertex(self, v):\n",
        "        if v not in self.s:\n",
        "            self.s[v] = set()\n",
        "\n",
        "    def add_edge(self, e):\n",
        "        u, v = e\n",
        "        self.add_vertex(u)\n",
        "        self.add_vertex(v)\n",
        "        self.s[u].add(v)\n",
        "\n",
        "    @property\n",
        "    def vertices(self):\n",
        "        return set(self.s.keys())\n",
        "\n",
        "    def successors(self, u):\n",
        "        \"\"\"Returns the set of successors of vertex u\"\"\"\n",
        "        return self.s[u]\n"
      ]
    },
    {
      "cell_type": "code",
      "execution_count": 14,
      "metadata": {
        "deletable": false,
        "editable": false,
        "nbgrader": {
          "grade": false,
          "grade_id": "cell-3beddf977e6b9a8e",
          "locked": true,
          "schema_version": 3,
          "solution": false
        },
        "colab": {
          "base_uri": "https://localhost:8080/",
          "height": 336
        },
        "id": "KynEAwEc4hb8",
        "outputId": "3001823c-992f-4d98-ec21-3c8fdd465c1a"
      },
      "outputs": [
        {
          "output_type": "stream",
          "name": "stdout",
          "text": [
            "{'b', 'c', 'd'}\n"
          ]
        },
        {
          "output_type": "display_data",
          "data": {
            "image/png": "[encoded data removed]",
            "text/plain": [
              "<Figure size 432x288 with 1 Axes>"
            ]
          },
          "metadata": {}
        }
      ],
      "source": [
        "g = Graph(vertices={'a', 'b', 'c', 'd', 'e', 'f', 'g'},\n",
        "          edges={('a', 'b'), ('a', 'c'), ('a', 'd'), ('b', 'd'),\n",
        "                 ('c', 'a'), ('c', 'e'), ('d', 'b'), ('d', 'c'),\n",
        "                 ('f', 'g'), ('g', 'f')})\n",
        "g.show()\n",
        "print(g.successors('a'))\n"
      ]
    },
    {
      "cell_type": "markdown",
      "metadata": {
        "deletable": false,
        "editable": false,
        "nbgrader": {
          "grade": false,
          "grade_id": "cell-252a42d428f1241e",
          "locked": true,
          "schema_version": 3,
          "solution": false
        },
        "id": "ttEE_SdJ4hb8"
      },
      "source": [
        "## Graph Reachability"
      ]
    },
    {
      "cell_type": "markdown",
      "metadata": {
        "deletable": false,
        "editable": false,
        "nbgrader": {
          "grade": false,
          "grade_id": "cell-f86b1b240fbe6e50",
          "locked": true,
          "schema_version": 3,
          "solution": false
        },
        "id": "0xcDhBG74hb9"
      },
      "source": [
        "We now come to one of the fundamental graph algorithms, in fact, perhaps _the_ most fundamental algorithm for graphs: computing the set of vertices reachable from a given starting vertex.  Exploring what is reachable from a graph vertex is a truly basic task, and variations on the algorithm can be used to answer related questions, such as whether a vertex is reachable from a given starting vertex. \n",
        "\n",
        "The algorithm keeps two sets of vertices: \n",
        "\n",
        "* The set of _open_ vertices: these are the vertices that are known to be reachable, and whose successors have not yet been explored. \n",
        "* The set of _closed_ vertices: these are the vertices that are known to be reachable, and whose successors we have already explored. \n",
        "\n",
        "Intially, the set of open vertices contains only the starting vertex, and the set of closed vertices is empty, as we have completed no exploration. \n",
        "Repeatedly, we pick an open vertex, we move it to the closed set, and we put all its successor vertices -- except those that are closed already -- in the open set.   The algorithm continues until there are no more open vertices; at that point, the set of reachable vertices is equal to the closed vertices.  \n",
        "\n",
        "If there is _one_ graph algorithm that you must learn by heart, and that you should be able to write even when you hang upside down from monkeybars, this is it.\n",
        "\n",
        "Let us write the algorithm as a function first. \n"
      ]
    },
    {
      "cell_type": "code",
      "execution_count": 15,
      "metadata": {
        "deletable": false,
        "editable": false,
        "nbgrader": {
          "grade": false,
          "grade_id": "cell-f934f6371ce86fb6",
          "locked": true,
          "schema_version": 3,
          "solution": false
        },
        "id": "DOl_rL9v4hb9"
      },
      "outputs": [],
      "source": [
        "def reachable(g, v):\n",
        "    \"\"\"Given a graph g, and a starting vertex v, returns the set of states\n",
        "    reachable from v in g.\"\"\"\n",
        "    vopen = {v}\n",
        "    vclosed = set()\n",
        "    while len(vopen) > 0:\n",
        "        u = vopen.pop()\n",
        "        vclosed.add(u)\n",
        "        vopen.update(g.successors(u) - vclosed)\n",
        "    return vclosed\n"
      ]
    },
    {
      "cell_type": "code",
      "execution_count": 16,
      "metadata": {
        "deletable": false,
        "editable": false,
        "nbgrader": {
          "grade": false,
          "grade_id": "cell-cfdd3c01d957b0bf",
          "locked": true,
          "schema_version": 3,
          "solution": false
        },
        "colab": {
          "base_uri": "https://localhost:8080/"
        },
        "id": "lV4_lhih4hb9",
        "outputId": "70ce095d-efb8-43c0-9481-276ae05799c3"
      },
      "outputs": [
        {
          "output_type": "stream",
          "name": "stdout",
          "text": [
            "{'c', 'b', 'e', 'd', 'a'}\n",
            "{'g', 'f'}\n"
          ]
        }
      ],
      "source": [
        "print(reachable(g, 'a'))\n",
        "print(reachable(g, 'g'))\n"
      ]
    },
    {
      "cell_type": "markdown",
      "metadata": {
        "deletable": false,
        "editable": false,
        "nbgrader": {
          "grade": false,
          "grade_id": "cell-51bc76a4ec5e7478",
          "locked": true,
          "schema_version": 3,
          "solution": false
        },
        "id": "KWCSQssu4hb9"
      },
      "source": [
        "To visualize the algorithm, let us write a version where at each iteration, open vertices are drawn in red and closed ones in green"
      ]
    },
    {
      "cell_type": "code",
      "execution_count": 17,
      "metadata": {
        "deletable": false,
        "editable": false,
        "nbgrader": {
          "grade": false,
          "grade_id": "cell-4a4f9b08a33f5558",
          "locked": true,
          "schema_version": 3,
          "solution": false
        },
        "id": "yA-wCnrM4hb9"
      },
      "outputs": [],
      "source": [
        "def reachable(g, v):\n",
        "    \"\"\"Given a graph g, and a starting vertex v, returns the set of states\n",
        "    reachable from v in g.\"\"\"\n",
        "    vopen = {v}\n",
        "    vclosed = set()\n",
        "    while len(vopen) > 0:\n",
        "        u = vopen.pop()\n",
        "        vclosed.add(u)\n",
        "        vopen.update(g.successors(u) - vclosed)\n",
        "    return vclosed\n"
      ]
    },
    {
      "cell_type": "code",
      "execution_count": 18,
      "metadata": {
        "deletable": false,
        "editable": false,
        "nbgrader": {
          "grade": false,
          "grade_id": "cell-b95277af46fc513f",
          "locked": true,
          "schema_version": 3,
          "solution": false
        },
        "colab": {
          "base_uri": "https://localhost:8080/"
        },
        "id": "L6DSXIOT4hb9",
        "outputId": "a94fcc03-f337-49b3-eb40-a88446b1481c"
      },
      "outputs": [
        {
          "output_type": "execute_result",
          "data": {
            "text/plain": [
              "{'a', 'b', 'c', 'd', 'e'}"
            ]
          },
          "metadata": {},
          "execution_count": 18
        }
      ],
      "source": [
        "reachable(g, 'a')\n"
      ]
    },
    {
      "cell_type": "markdown",
      "metadata": {
        "deletable": false,
        "editable": false,
        "nbgrader": {
          "grade": false,
          "grade_id": "cell-e45e831a364199ed",
          "locked": true,
          "schema_version": 3,
          "solution": false
        },
        "id": "psDAq_cH4hb9"
      },
      "source": [
        "## Breadth-First and Depth-First Search\n",
        "\n",
        "### Breadth First\n",
        "\n",
        "In **breadth-first** search, we explore in concentric circles emanating from the starting point: first all vertices at distance 1, then all vertices at distance 2, and so on.  In general, we explore all vertices at distance $\\leq n$ before we explore vertices at distances $>n$. \n",
        "\n",
        "To implement breadth-first search, we store the open vertices `vopen` as a list rather than a set.  We then explore vertices in the order they have been added to `vopen`: this ensures that vertices closer to the search origin are explored earlier than farther-away vertices.\n",
        "\n",
        "The difference in code between reachability search, and its specialized breadth-first version, is minimal. \n"
      ]
    },
    {
      "cell_type": "code",
      "execution_count": 19,
      "metadata": {
        "deletable": false,
        "editable": false,
        "nbgrader": {
          "grade": false,
          "grade_id": "cell-1d7e87a03d035b2",
          "locked": true,
          "schema_version": 3,
          "solution": false
        },
        "id": "SLQeBRAx4hb-"
      },
      "outputs": [],
      "source": [
        "def breath_first(g, v):\n",
        "    \"\"\"Given a graph g, and a starting vertex v, returns the set of states\n",
        "    reachable from v in g.\"\"\"\n",
        "    # vopen is a FIFO: first in, first out. Like a normal queue.\n",
        "    # we add elements from the end, and pop them from the beginning.\n",
        "    vopen = [v]\n",
        "    vclosed = set()\n",
        "    while len(vopen) > 0:\n",
        "        u = vopen.pop(0) # Pop from the beginning\n",
        "        vclosed.add(u)\n",
        "        # vopen.update(g.successors(u) - vclosed)\n",
        "        for w in g.successors(u) - vclosed:\n",
        "            if w not in vopen:\n",
        "                vopen.append(w) # Add to the end\n",
        "    return vclosed\n"
      ]
    },
    {
      "cell_type": "code",
      "execution_count": 20,
      "metadata": {
        "deletable": false,
        "editable": false,
        "nbgrader": {
          "grade": false,
          "grade_id": "cell-aed8dee10be7277e",
          "locked": true,
          "schema_version": 3,
          "solution": false
        },
        "id": "-nuoG5js4hb-"
      },
      "outputs": [],
      "source": [
        "gg = Graph(vertices={},\n",
        "           edges={('a', 'b'), ('b', 'c'), ('c', 'd'),\n",
        "                  ('a', 'u'), ('u', 'v'), ('v', 'w'), ('u', 'z')})\n"
      ]
    },
    {
      "cell_type": "code",
      "execution_count": 21,
      "metadata": {
        "deletable": false,
        "editable": false,
        "nbgrader": {
          "grade": false,
          "grade_id": "cell-1eef3642ba6dd1c4",
          "locked": true,
          "schema_version": 3,
          "solution": false
        },
        "colab": {
          "base_uri": "https://localhost:8080/"
        },
        "id": "aTg2ne7a4hb-",
        "outputId": "eec0c531-e061-4aff-e869-6710c6da2499"
      },
      "outputs": [
        {
          "output_type": "execute_result",
          "data": {
            "text/plain": [
              "{'a', 'b', 'c', 'd', 'u', 'v', 'w', 'z'}"
            ]
          },
          "metadata": {},
          "execution_count": 21
        }
      ],
      "source": [
        "breath_first(gg, 'a')\n"
      ]
    },
    {
      "cell_type": "markdown",
      "metadata": {
        "deletable": false,
        "editable": false,
        "nbgrader": {
          "grade": false,
          "grade_id": "cell-aae5d3a6669259e6",
          "locked": true,
          "schema_version": 3,
          "solution": false
        },
        "id": "xft9_H824hb-"
      },
      "source": [
        "We see that we explore $b$ and $u$ before any of their successors are explored, and similarly, we explore $z$, $v$, and $c$ before $d$ or $w$. "
      ]
    },
    {
      "cell_type": "markdown",
      "metadata": {
        "deletable": false,
        "editable": false,
        "nbgrader": {
          "grade": false,
          "grade_id": "cell-9b1b7b4f7eae722b",
          "locked": true,
          "schema_version": 3,
          "solution": false
        },
        "id": "QGG4vE9S4hb-"
      },
      "source": [
        "### Depth-First Search\n",
        "\n",
        "In **depth-first** search, we follow a path as long as possible, and only when we come to an end do we explore other nodes.  In depth-first search, the most recent visited vertex, the one added last to the list of open vertices, is the one that will be explored first. \n",
        "\n",
        "The difference in code from breadth-first search is minimal.  In breadth-first search, the vertex to be explored next is the _oldest_ among the open ones: \n",
        "\n",
        "        u = vopen.pop(0)\n",
        "\n",
        "In depth-first search, it will be the _newest_ among the open ones:\n",
        "\n",
        "        u = vopen.pop()\n",
        "\n",
        "That's the whole difference."
      ]
    },
    {
      "cell_type": "code",
      "execution_count": 22,
      "metadata": {
        "deletable": false,
        "editable": false,
        "nbgrader": {
          "grade": false,
          "grade_id": "cell-b591a6d27fa49cbe",
          "locked": true,
          "schema_version": 3,
          "solution": false
        },
        "id": "bJlF9xw04hb-"
      },
      "outputs": [],
      "source": [
        "def depth_first(g, v):\n",
        "    \"\"\"Given a graph g, and a starting vertex v, returns the set of states\n",
        "    reachable from v in g.\"\"\"\n",
        "    # vopen is a stack / LIFO: last in, first out. Like a stack.\n",
        "    # we add elements from the end, and pop them from the end.\n",
        "    vopen = [v]\n",
        "    vclosed = set()\n",
        "    while len(vopen) > 0:\n",
        "        u = vopen.pop() # THIS is the difference: there is no 0 in the parentheses.\n",
        "        vclosed.add(u)\n",
        "        # vopen.update(g.successors(u) - vclosed)\n",
        "        for w in g.successors(u) - vclosed:\n",
        "            if w not in vopen:\n",
        "                vopen.append(w)\n",
        "    return vclosed\n"
      ]
    },
    {
      "cell_type": "code",
      "execution_count": 23,
      "metadata": {
        "deletable": false,
        "editable": false,
        "nbgrader": {
          "grade": false,
          "grade_id": "cell-b78270b2d336e712",
          "locked": true,
          "schema_version": 3,
          "solution": false
        },
        "colab": {
          "base_uri": "https://localhost:8080/"
        },
        "id": "DBrILqBE4hb-",
        "outputId": "09864455-9e10-4a0f-c4c7-e20af15faf65"
      },
      "outputs": [
        {
          "output_type": "execute_result",
          "data": {
            "text/plain": [
              "{'a', 'b', 'c', 'd', 'u', 'v', 'w', 'z'}"
            ]
          },
          "metadata": {},
          "execution_count": 23
        }
      ],
      "source": [
        "depth_first(gg, 'a')\n"
      ]
    },
    {
      "cell_type": "markdown",
      "metadata": {
        "deletable": false,
        "editable": false,
        "nbgrader": {
          "grade": false,
          "grade_id": "cell-8fffa31ff7c1b5fe",
          "locked": true,
          "schema_version": 3,
          "solution": false
        },
        "id": "rK2v3_Q_4hb_"
      },
      "source": [
        "We see how in depth-first search we explore completely one side of the successors of $a$, consisting of $u, v, w, z$, before exploring the other side $b, c, d$. "
      ]
    },
    {
      "cell_type": "markdown",
      "metadata": {
        "deletable": false,
        "editable": false,
        "nbgrader": {
          "grade": false,
          "grade_id": "cell-bdf00dd44e5bc92f",
          "locked": true,
          "schema_version": 3,
          "solution": false
        },
        "id": "lVtrq-F04hb_"
      },
      "source": [
        "## Problem 1: Returning the edges\n",
        "\n",
        "In our latest implementation, we do not have direct access to the edges of the graph.  In other words, for a graph g, we cannot do: \n",
        "\n",
        "    for (u, v) in g.edges:\n",
        "        ... \n",
        "\n",
        "We ask you to write an iterator over edges, to make the above code work.  The iterator should yield the edges of the graph, one by one. "
      ]
    },
    {
      "cell_type": "code",
      "execution_count": 53,
      "metadata": {
        "deletable": false,
        "nbgrader": {
          "grade": false,
          "grade_id": "cell-832f2aed5ed1fd65",
          "locked": false,
          "schema_version": 3,
          "solution": true
        },
        "id": "MxI-VyBr4hb_"
      },
      "outputs": [],
      "source": [
        "### An iterator for the set of edges\n",
        "\n",
        "def graph_edges(self):\n",
        "    \"\"\"Yields the edges of the graph, one by one.  Each edge is yielded as a\n",
        "    pair of vertices (source, destination). \"\"\"\n",
        "    # YOUR CODE HERE\n",
        "    for key in self.s:\n",
        "      value = self.s[key]\n",
        "      for v in value:\n",
        "        yield (key, v)\n",
        "\n",
        "Graph.edges = property(graph_edges)\n"
      ]
    },
    {
      "cell_type": "code",
      "execution_count": 54,
      "metadata": {
        "deletable": false,
        "editable": false,
        "nbgrader": {
          "grade": false,
          "grade_id": "cell-f1018b491ca3cc82",
          "locked": true,
          "schema_version": 3,
          "solution": false
        },
        "colab": {
          "base_uri": "https://localhost:8080/"
        },
        "id": "Ly2i9Lj34hb_",
        "outputId": "64d2681c-6697-4472-ce33-38c556e2cf29"
      },
      "outputs": [
        {
          "output_type": "stream",
          "name": "stdout",
          "text": [
            "[(1, 2), (1, 3), (2, 3)]\n"
          ]
        }
      ],
      "source": [
        "### Here you can play with your code.\n",
        "e = [(1, 2), (1, 3), (2, 3)]\n",
        "g = Graph(vertices=[1, 2, 3], edges = e)\n",
        "print(list(g.edges))"
      ]
    },
    {
      "cell_type": "markdown",
      "metadata": {
        "deletable": false,
        "editable": false,
        "nbgrader": {
          "grade": false,
          "grade_id": "cell-b1812b7fcb27100b",
          "locked": true,
          "schema_version": 3,
          "solution": false
        },
        "id": "a2bWy4mP4hb_"
      },
      "source": [
        "Here are some tests. "
      ]
    },
    {
      "cell_type": "code",
      "execution_count": 55,
      "metadata": {
        "deletable": false,
        "editable": false,
        "nbgrader": {
          "grade": false,
          "grade_id": "cell-fabe89ee42cb9340",
          "locked": true,
          "schema_version": 3,
          "solution": false
        },
        "id": "_PlA130T4hb_"
      },
      "outputs": [],
      "source": [
        "### 10 points: simple tests\n",
        "\n",
        "e = [(1, 2), (1, 3), (2, 3)]\n",
        "g = Graph(vertices=[1, 2, 3], edges=e)\n",
        "assert set(g.edges) == set(e)\n",
        "\n",
        "import types\n",
        "# You need to build a generator, one of those things with the yield statement.\n",
        "assert isinstance(g.edges, types.GeneratorType)\n"
      ]
    },
    {
      "cell_type": "markdown",
      "metadata": {
        "deletable": false,
        "editable": false,
        "nbgrader": {
          "grade": false,
          "grade_id": "cell-40adfb2d1c14fd9",
          "locked": true,
          "schema_version": 3,
          "solution": false
        },
        "id": "Wo7hr6OY4hb_"
      },
      "source": [
        "Here are some randomized test."
      ]
    },
    {
      "cell_type": "code",
      "execution_count": 56,
      "metadata": {
        "deletable": false,
        "editable": false,
        "nbgrader": {
          "grade": true,
          "grade_id": "cell-e4efe5c3f662e0cb",
          "locked": true,
          "points": 10,
          "schema_version": 3,
          "solution": false
        },
        "id": "fwsVvDQt4hb_"
      },
      "outputs": [],
      "source": [
        "### 10 points: random tests\n",
        "\n",
        "import random\n",
        "\n",
        "for _ in range(10):\n",
        "    num_vertices = random.randint(4, 10)\n",
        "    num_edges = random.randint(1, num_vertices * num_vertices)\n",
        "    vertices = random.sample(range(0, 1000), num_vertices)\n",
        "    edges = {(random.choice(vertices), random.choice(vertices)) for _ in range(num_edges)}\n",
        "    g = Graph(vertices=vertices, edges=edges)\n",
        "    assert set(g.edges) == edges\n",
        "\n"
      ]
    },
    {
      "cell_type": "markdown",
      "metadata": {
        "deletable": false,
        "editable": false,
        "nbgrader": {
          "grade": false,
          "grade_id": "cell-35b03022b49886e0",
          "locked": true,
          "schema_version": 3,
          "solution": false
        },
        "id": "nAwxxvRc4hcA"
      },
      "source": [
        "## Problem 2: Is a graph a tree? \n",
        "\n",
        "A tree is a graph $(V, E)$ with two special properties: \n",
        "\n",
        "* Every vertex has at most one incoming edge.\n",
        "* Either there are no vertices, or there is a vertex with no incoming edges, called the _root_, from which all other vertices are reachable. \n",
        "\n",
        "If the second property does not hold, incidentally, the graph is called a _forest._\n",
        "\n",
        "Write an `is_tree` function such that `is_tree(g)` returns True if the graph `g` is a tree, False otherwise."
      ]
    },
    {
      "cell_type": "code",
      "execution_count": 88,
      "metadata": {
        "deletable": false,
        "nbgrader": {
          "grade": false,
          "grade_id": "cell-4648284345f9654",
          "locked": false,
          "schema_version": 3,
          "solution": true
        },
        "id": "OnE3vqUT4hcA"
      },
      "outputs": [],
      "source": [
        " ### Implementation of tree test\n",
        "\n",
        "def is_tree(g):\n",
        "    \"\"\"Returns True iff the graph is a tree.\"\"\"\n",
        "    # YOUR CODE HERE\n",
        "    elist = []\n",
        "    if g.vertices == None:\n",
        "      return True\n",
        "    else:\n",
        "      e = g.edges\n",
        "      for pair in e:\n",
        "        u, v = pair\n",
        "        elist.append(v)\n",
        "      eset = set(elist)\n",
        "      if elist != list(eset):\n",
        "        return False\n",
        "      return True"
      ]
    },
    {
      "cell_type": "code",
      "execution_count": 89,
      "metadata": {
        "deletable": false,
        "editable": false,
        "nbgrader": {
          "grade": false,
          "grade_id": "cell-2aa20ad9afede093",
          "locked": true,
          "schema_version": 3,
          "solution": false
        },
        "colab": {
          "base_uri": "https://localhost:8080/"
        },
        "id": "lwcr89Mq4hcA",
        "outputId": "4102f5cb-ca6b-43cc-c5e7-538d954933e3"
      },
      "outputs": [
        {
          "output_type": "stream",
          "name": "stdout",
          "text": [
            "True\n"
          ]
        }
      ],
      "source": [
        "### Here you can play with your code\n",
        "g = Graph(vertices=[1, 2, 3], edges=[(1, 2), (1, 3)])\n",
        "print(is_tree(g))\n"
      ]
    },
    {
      "cell_type": "code",
      "execution_count": 90,
      "metadata": {
        "deletable": false,
        "editable": false,
        "nbgrader": {
          "grade": true,
          "grade_id": "cell-7114ea540fd187e0",
          "locked": true,
          "points": 10,
          "schema_version": 3,
          "solution": false
        },
        "id": "ScSaTrNx4hcA"
      },
      "outputs": [],
      "source": [
        " ### 10 points: Tests for `is_tree`\n",
        "\n",
        "g = Graph(vertices=[1, 2, 3], edges=[(1, 2), (1, 3)])\n",
        "assert is_tree(g)\n",
        "g = Graph(vertices=[1, 2, 3], edges=[(1, 2), (2, 3), (1, 3)])\n",
        "assert not is_tree(g)\n",
        "g = Graph(vertices=[1, 2, 3], edges=[(1, 3), (2, 3)])\n",
        "assert not is_tree(g)\n",
        "\n"
      ]
    },
    {
      "cell_type": "code",
      "execution_count": 91,
      "metadata": {
        "deletable": false,
        "editable": false,
        "nbgrader": {
          "grade": true,
          "grade_id": "cell-dff264793a8143a2",
          "locked": true,
          "points": 10,
          "schema_version": 3,
          "solution": false
        },
        "id": "TQQk0Qbq4hcA"
      },
      "outputs": [],
      "source": [
        "### 10 points: More tests for `is_tree`\n",
        "\n",
        "g = Graph()\n",
        "assert is_tree(g)\n",
        "\n"
      ]
    },
    {
      "cell_type": "markdown",
      "metadata": {
        "deletable": false,
        "editable": false,
        "nbgrader": {
          "grade": false,
          "grade_id": "cell-54850066737eda76",
          "locked": true,
          "schema_version": 3,
          "solution": false
        },
        "id": "hmqDFT7x4hcA"
      },
      "source": [
        "## Problem 3: Reachability using either of two graphs\n",
        "\n",
        "In this problem, you are given _two_ graphs `g1`, `g2`, that share the same set of vertices. \n",
        "You have to write a function `can_reach(v, g1, g2, w)`, which returns `True` iff you can go from vertex `v` to vertex `w` using either edges of `g1` or `g2`. \n",
        "Note that to go from `v` to `w`, you can use one or more edges from `g1` and one or more edges of `g2`, mixed in any way you like.  To solve the problem, you have to modify the reachability algorithms so that edges from either graph can be used. \n",
        "\n",
        "_Hint:_ Modify the reachability algorithm.\n"
      ]
    },
    {
      "cell_type": "code",
      "execution_count": 109,
      "metadata": {
        "deletable": false,
        "nbgrader": {
          "grade": false,
          "grade_id": "cell-6e2243aa0ad9502f",
          "locked": false,
          "schema_version": 3,
          "solution": true
        },
        "id": "PvjZMgOl4hcA"
      },
      "outputs": [],
      "source": [
        "def can_reach(v, g1, g2, w):\n",
        "    \"\"\"Given two graphs g1, g2 that share the same vertices, and two verteces v, w,\n",
        "    returns True if you can go from v to w using edges of either g1 or g2 (mixed any\n",
        "    way you want) and False otherwise.\"\"\"\n",
        "    # YOUR CODE HERE\n",
        "    g1e = g1.edges\n",
        "    g2e = g2.edges\n",
        "    alle = list(g1e) + list(g2e)\n",
        "    newg = Graph(vertices = {}, edges = alle)\n",
        "    reach = breath_first(newg, v)\n",
        "    for vertex in reach:\n",
        "      if vertex == w:\n",
        "        return True\n",
        "      pass\n",
        "    return False\n",
        "\n"
      ]
    },
    {
      "cell_type": "code",
      "execution_count": 110,
      "metadata": {
        "deletable": false,
        "editable": false,
        "nbgrader": {
          "grade": false,
          "grade_id": "cell-6868c54a2bd39540",
          "locked": true,
          "schema_version": 3,
          "solution": false
        },
        "colab": {
          "base_uri": "https://localhost:8080/"
        },
        "id": "UsTzDVYp4hcA",
        "outputId": "b48912f6-2e89-4ad0-f17d-a7c7afc5fca0"
      },
      "outputs": [
        {
          "output_type": "stream",
          "name": "stdout",
          "text": [
            "True\n"
          ]
        }
      ],
      "source": [
        "### Here you can play with your code.\n",
        "vertices = {1, 2, 3, 4, 5, 6, 7}\n",
        "g1 = Graph(vertices=vertices, edges = [(1, 2), (3, 4)])\n",
        "g2 = Graph(vertices=vertices, edges = [(2, 3), (4, 5), (6, 7)])\n",
        "print(can_reach(1, g1, g2, 2))"
      ]
    },
    {
      "cell_type": "code",
      "execution_count": 111,
      "metadata": {
        "deletable": false,
        "editable": false,
        "nbgrader": {
          "grade": false,
          "grade_id": "cell-81b95f8674cfcc9",
          "locked": true,
          "schema_version": 3,
          "solution": false
        },
        "id": "mnH1xXRP4hcB"
      },
      "outputs": [],
      "source": [
        "### 10 points: simple tests for can_reach\n",
        "\n",
        "vertices = {1, 2, 3, 4, 5, 6, 7}\n",
        "g1 = Graph(vertices=vertices, edges=[(1, 2), (3, 4)])\n",
        "g2 = Graph(vertices=vertices, edges=[(2, 3), (4, 5), (6, 7)])\n",
        "assert can_reach(1, g1, g2, 2)\n",
        "assert can_reach(1, g1, g2, 3)\n",
        "assert can_reach(1, g1, g2, 4)\n",
        "assert can_reach(1, g1, g2, 5)\n",
        "assert not can_reach(1, g1, g2, 6)\n",
        "assert not can_reach(1, g1, g2, 7)\n"
      ]
    },
    {
      "cell_type": "code",
      "execution_count": 112,
      "metadata": {
        "deletable": false,
        "editable": false,
        "nbgrader": {
          "grade": true,
          "grade_id": "cell-c3a7e10bd033a38a",
          "locked": true,
          "points": 10,
          "schema_version": 3,
          "solution": false
        },
        "id": "fOqZEPhb4hcB"
      },
      "outputs": [],
      "source": [
        "### 10 points: more advanced tests for can_reach\n",
        "\n",
        "vertices = set(range(100))\n",
        "# g1 edges go from n to 2n, g2 edges go from n to 3n.\n",
        "g1 = Graph(vertices=vertices, edges=[(n, 2 * n) for n in range(100) if 2 * n < 100])\n",
        "g2 = Graph(vertices=vertices, edges=[(n, 3 * n) for n in range(100) if 3 * n < 100])\n",
        "assert can_reach(1, g1, g2, 6)\n",
        "assert can_reach(1, g1, g2, 24)\n",
        "assert can_reach(1, g1, g2, 32)\n",
        "assert can_reach(1, g1, g2, 9)\n",
        "assert not can_reach(1, g1, g2, 15)\n",
        "assert not can_reach(1, g1, g2, 60)\n",
        "assert can_reach(5, g1, g2, 15)\n",
        "assert can_reach(5, g1, g2, 30)\n",
        "\n"
      ]
    },
    {
      "cell_type": "code",
      "execution_count": null,
      "metadata": {
        "deletable": false,
        "editable": false,
        "nbgrader": {
          "grade": false,
          "grade_id": "cell-7fd1b256e6c773dd",
          "locked": true,
          "schema_version": 3,
          "solution": false
        },
        "id": "Muo_R5jc4hcB"
      },
      "outputs": [],
      "source": [
        ""
      ]
    }
  ],
  "metadata": {
    "colab": {
      "collapsed_sections": [],
      "name": "Homework_12_test.ipynb",
      "provenance": []
    },
    "kernelspec": {
      "display_name": "Python 3",
      "language": "python",
      "name": "python3"
    },
    "language_info": {
      "codemirror_mode": {
        "name": "ipython",
        "version": 3
      },
      "file_extension": ".py",
      "mimetype": "text/x-python",
      "name": "python",
      "nbconvert_exporter": "python",
      "pygments_lexer": "ipython3",
      "version": "3.8.10"
    },
    "test_info": {
      "id": "6aca7840daf29f85c1a3cea13e51b6a8c534d5fd"
    }
  },
  "nbformat": 4,
  "nbformat_minor": 0
}